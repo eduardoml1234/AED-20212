{
  "nbformat": 4,
  "nbformat_minor": 0,
  "metadata": {
    "colab": {
      "name": "Clase_3.2.ipynb",
      "provenance": [],
      "authorship_tag": "ABX9TyMsDI5cK1KbXbq7mT5y7NrK",
      "include_colab_link": true
    },
    "kernelspec": {
      "name": "python3",
      "display_name": "Python 3"
    },
    "language_info": {
      "name": "python"
    }
  },
  "cells": [
    {
      "cell_type": "markdown",
      "metadata": {
        "id": "view-in-github",
        "colab_type": "text"
      },
      "source": [
        "<a href=\"https://colab.research.google.com/github/eduardoml1234/AED-20212/blob/main/Clase_3_2.ipynb\" target=\"_parent\"><img src=\"https://colab.research.google.com/assets/colab-badge.svg\" alt=\"Open In Colab\"/></a>"
      ]
    },
    {
      "cell_type": "code",
      "execution_count": 7,
      "metadata": {
        "colab": {
          "base_uri": "https://localhost:8080/"
        },
        "id": "DgJbHUCMPWrD",
        "outputId": "d66e587c-750b-43ca-c58f-fc4e4746f272"
      },
      "outputs": [
        {
          "output_type": "stream",
          "name": "stdout",
          "text": [
            "Overwriting ejercicio1.cpp\n"
          ]
        }
      ],
      "source": [
        "%%writefile ejercicio1.cpp\n",
        "\n",
        "#include <iostream>\n",
        "#include <functional>\n",
        "using std::function;\n",
        "using std::cout;\n",
        "using std::endl;\n",
        "\n",
        "struct Vagon{\n",
        "    int elemento;\n",
        "    Vagon* siguiente;\n",
        "\n",
        "    Vagon(int e){\n",
        "        elemento =e;\n",
        "        siguiente=nullptr;\n",
        "    }\n",
        "    void setsiguiente(Vagon* aux){\n",
        "        siguiente= aux;\n",
        "    }\n",
        "    void getelemento(){\n",
        "        return elemento;\n",
        "    }\n",
        "\n",
        "}\n",
        "class Tren{\n",
        "    size_t cantidad;\n",
        "    Vagon* inicio;\n",
        "\n",
        "    Tren(){\n",
        "        inicio=nullptr;\n",
        "        cantidad=0;\n",
        "    }\n",
        "    void insert(int e){\n",
        "        Vagon* n= new Vagon(e);\n",
        "        if (cantidad=0)\n",
        "        inicio=n;\n",
        "        else{\n",
        "            n->setsiguiente(inicio);\n",
        "            inicio=n; \n",
        "            \n",
        "        }\n",
        "        cantidad++;\n",
        "    }\n",
        "    void print(){\n",
        "        Vagon* aux=inicio;\n",
        "        while(aux->getsiguiente()!=nullptr){\n",
        "            cout<<aux->getelemento();\n",
        "        }\n",
        "\n",
        "    }\n",
        "}\n",
        "\n",
        "\n",
        "int main(){\n",
        "    Tren t;\n",
        "\n",
        "\n",
        "    return 0;\n",
        "}"
      ]
    },
    {
      "cell_type": "code",
      "source": [
        "%%writefile ejercicio11.cpp\n",
        "#include <iostream>\n",
        "\n",
        "using namespace std;\n",
        "\n",
        "class Tren{\n",
        "\n",
        "  class Vagon{\n",
        "\n",
        "    public:\n",
        "\n",
        "    int elemento;//Niños\n",
        "\n",
        "    Vagon* sig;\n",
        "\n",
        "    Vagon(int e){\n",
        "\n",
        "      elemento=e;\n",
        "\n",
        "      sig=nullptr;\n",
        "\n",
        "    }\n",
        "\n",
        "  };\n",
        "\n",
        "  Vagon* inicio;\n",
        "\n",
        "  size_t cantidad;\n",
        "\n",
        "  public:\n",
        "\n",
        "  Tren(){\n",
        "\n",
        "    inicio=nullptr;\n",
        "\n",
        "    cantidad=0;\n",
        "\n",
        "  }\n",
        "\n",
        "  void insert(int e){\n",
        "\n",
        "    Vagon* n=new Vagon(e);\n",
        "\n",
        "    if(cantidad==0)\n",
        "\n",
        "      inicio=n;\n",
        "\n",
        "    else{\n",
        "\n",
        "      n->sig=inicio;\n",
        "\n",
        "      inicio=n;\n",
        "\n",
        "    }\n",
        "\n",
        "    ++cantidad;    \n",
        "\n",
        "  }\n",
        "\n",
        "  void print(){\n",
        "\n",
        "    Vagon* aux=inicio;\n",
        "\n",
        "    while(aux->sig!=nullptr){\n",
        "\n",
        "      cout<<aux->elemento<<\"-->\";\n",
        "\n",
        "      aux=aux->sig;\n",
        "\n",
        "    }\n",
        "\n",
        "    cout<<endl;\n",
        "\n",
        "  }\n",
        "\n",
        "};\n",
        "\n",
        "int main(){\n",
        "\n",
        "  Tren t;\n",
        "\n",
        "    for(size_t i=0;i<20;++i)\n",
        "\n",
        "      t.insert(i);\n",
        "\n",
        "    t.print();\n",
        "\n",
        "  return 0;\n",
        "\n",
        "}"
      ],
      "metadata": {
        "colab": {
          "base_uri": "https://localhost:8080/"
        },
        "id": "--_bQ936fykh",
        "outputId": "6a3739be-1726-469d-9256-b8ebae1bed86"
      },
      "execution_count": 11,
      "outputs": [
        {
          "output_type": "stream",
          "name": "stdout",
          "text": [
            "Overwriting ejercicio11.cpp\n"
          ]
        }
      ]
    },
    {
      "cell_type": "code",
      "source": [
        "!g++ ejercicio11.cpp && ./a.out"
      ],
      "metadata": {
        "colab": {
          "base_uri": "https://localhost:8080/"
        },
        "id": "q9jaJSYphLOY",
        "outputId": "1d6f008f-3bda-444a-8b5d-6784c10768ca"
      },
      "execution_count": 12,
      "outputs": [
        {
          "output_type": "stream",
          "name": "stdout",
          "text": [
            "19-->18-->17-->16-->15-->14-->13-->12-->11-->10-->9-->8-->7-->6-->5-->4-->3-->2-->1-->\n"
          ]
        }
      ]
    }
  ]
}